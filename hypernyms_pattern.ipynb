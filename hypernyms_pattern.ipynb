{
 "cells": [
  {
   "cell_type": "code",
   "execution_count": 74,
   "metadata": {},
   "outputs": [],
   "source": [
    "import nltk"
   ]
  },
  {
   "cell_type": "code",
   "execution_count": 75,
   "metadata": {},
   "outputs": [
    {
     "name": "stdout",
     "output_type": "stream",
     "text": [
      "reforms or other issues; forest or other lands; custodial or other\n",
      "jobs; acetate or other types; pressures or other forms; form or other\n",
      "enters; us or other peoples; matters or other problems; television or\n",
      "other products; Department or other departments; clothing or other\n",
      "necessities; changes or other energies\n"
     ]
    }
   ],
   "source": [
    "from nltk.corpus import brown\n",
    "hypernyms_pattern = nltk.Text(brown.words(categories=['adventure', 'belles_lettres', 'editorial', 'fiction', 'government', 'hobbies',\n",
    "'humor', 'learned', 'lore', 'mystery', 'news', 'religion', 'reviews', 'romance',\n",
    "'science_fiction']))\n",
    "hypernyms_pattern.findall(r\"<\\w*><or> <other> <\\w*s>\")\n"
   ]
  },
  {
   "cell_type": "code",
   "execution_count": 76,
   "metadata": {},
   "outputs": [
    {
     "name": "stdout",
     "output_type": "stream",
     "text": [
      "Survivors include two brothers; Survivors include his sister;\n",
      "Survivors include a son; Performers include a company; sages include\n",
      "poet Carl; titles include the word; memberships include the American;\n",
      "jobs include major management; variables include the dancer; services\n",
      "include procurement and; costs include the higher; products include a\n",
      "wide; organizations include eight to; organizations include the\n",
      "groups; churches include the following; duties include evaluation of;\n",
      "errors include absolute as; lists include 15 per; tables include those\n",
      "for\n"
     ]
    }
   ],
   "source": [
    "hypernyms_pattern.findall(r\"<\\w*s> <include> <\\w*> <\\w*>\")"
   ]
  },
  {
   "cell_type": "code",
   "execution_count": 77,
   "metadata": {},
   "outputs": [
    {
     "name": "stdout",
     "output_type": "stream",
     "text": [
      "such topics as Angola; such items as radios; such techniques as\n",
      "plowing; such countries as India; such factors as Easter; such means\n",
      "as anonymous; such places as the; such pastels as blue; such crafts as\n",
      "working; such groupings as the; such institutions as hospitals; such\n",
      "roads as existed; such areas as Cape; such things as coffee; such\n",
      "stunts as headstands; such intervals as he; such factors as costs;\n",
      "such things as geographical; such things as stress; such things as\n",
      "estimated; such marriages as those; such diseases as cancer; such\n",
      "statements as the; such factors as the; such generals as George; such\n",
      "crafts as auto; such bovines as were; such charges as poor; such\n",
      "cities as Charlotte; such matters as appear; such theologians as\n",
      "Niebuhr; such areas as theology; such tribes as the; such concepts as\n",
      "the; such warys as yow; such details as Room; such fields as\n",
      "education; such organizations as Society; such factors as the; such\n",
      "rights as he; such activities as are; such projects as biological;\n",
      "such conditions as may; such regulations as the; such awards as bear;\n",
      "such regulations as the; such awards as bear; such sums as may; such\n",
      "sums as were; such countries as India; such subjects as fertility;\n",
      "such comments as the; such ways as to; such considerations as\n",
      "typographic; such elements as job; such factors as sex; such questions\n",
      "as these; such composers as Monteverdi; such effects as intentional;\n",
      "such substrates as iron; such applications as cores; such novelties as\n",
      "soap; such games as Stall; such names as amphibology\n"
     ]
    }
   ],
   "source": [
    "hypernyms_pattern.findall(r\"<such> <\\w*s> <as> <\\w*>\")"
   ]
  },
  {
   "cell_type": "code",
   "execution_count": 78,
   "metadata": {},
   "outputs": [
    {
     "name": "stdout",
     "output_type": "stream",
     "text": [
      "supplies such as belting; improvements such as extensions; services\n",
      "such as health; countries such as President; facilities such as roads;\n",
      "disorders such as cerebral; temptations such as refrigerator;\n",
      "communities such as ours; services such as schools; departments such\n",
      "as welfare; diseases such as leukemia; bodies such as the; composers\n",
      "such as Mendelssohn; diseases such as encephalitis; aircraft such as\n",
      "the; reason such as economy; powerplants such as these; attractions\n",
      "such as the; pitfall such as plunges; features such as a; values such\n",
      "as ancient; stress such as shipping; conditions such as vaccinating;\n",
      "organizations such as American; subjects such as architecture;\n",
      "craftsmen such as tool; trappings such as private; piping such as\n",
      "water; manufacturers such as Advance; dishes such as chop; dishes such\n",
      "as spaghetti; ailments such as arthritis; complication such as a;\n",
      "chores such as cooking; societies such as the; definitions such as\n",
      "this; region such as the; governed such as ours; pictures such as\n",
      "Durer; productivity such as is; socialism such as we; robustness such\n",
      "as he; notions such as the; examples such as those; tragedies such as\n",
      "the; Concepts such as grace; crises such as those; features such as\n",
      "slopes; Records such as diaries; container such as a; literature such\n",
      "as country; programs such as recreation; equipment such as tanks;\n",
      "considerations such as these; pastes such as printing; impurities such\n",
      "as calcium; substances such as greases; centers such as large;\n",
      "buildings such as widespread; workers such as those; produced such as\n",
      "antibiotic; currants such as the; hollow such as a; barriers such as\n",
      "those; fibers such as that; animals such as the; occurs such as is;\n",
      "Efforts such as the; phenomena such as undue; attributes such as sex;\n",
      "language such as Russian; distinctions such as these; Analyses such as\n",
      "these; nation such as Switzerland; activities such as selecting;\n",
      "questions such as these; organizations such as the; disturbances such\n",
      "as that; peptides such as bradykinin; solvent such as an; properties\n",
      "such as the; sources such as Strukturbericht; tabulations such as the;\n",
      "procedures such as dehydration; microorganisms such as bacteria;\n",
      "bacteria such as Clostridium; organisms such as Trichinella; material\n",
      "such as an; liquid such as a; components such as the; matters such as\n",
      "leavened; catastrophe such as the; principle such as Cousin; animal\n",
      "such as that\n"
     ]
    }
   ],
   "source": [
    "hypernyms_pattern.findall(r\"<\\w{6,}> <such> <as> <\\w*>\")"
   ]
  },
  {
   "cell_type": "code",
   "execution_count": 79,
   "metadata": {},
   "outputs": [
    {
     "name": "stdout",
     "output_type": "stream",
     "text": [
      "trips including a double; benefits including state contributions;\n",
      "instrumentalists including Anabel Brieff; hardwoods including the\n",
      "yellow; pictures including the Lewis; prizes including two gold;\n",
      "seasons including six months; organizations including the YMCA; elders\n",
      "including many of; factors including required dose\n"
     ]
    }
   ],
   "source": [
    "hypernyms_pattern.findall(r\"<\\w*s> <including> <\\w*> <\\w*>\")"
   ]
  },
  {
   "cell_type": "code",
   "execution_count": 80,
   "metadata": {},
   "outputs": [
    {
     "name": "stdout",
     "output_type": "stream",
     "text": [
      "cities like Dallas; places like Paradise; Motorists like myself; firms\n",
      "like Frito; names like Arabian; libertarians like Henry; friends like\n",
      "Blimp; stinkpotters like McKellar; looks like Coney; objects like\n",
      "trees; tastes like dishwater; components like those; marriages like\n",
      "these; climbs like Mount; concepts like liberty; states like Virginia;\n",
      "states like Virginia; plants like oleanders; entrepreneurs like Henry;\n",
      "constellations like Draco; pairs like guards; bosses like Crittenden;\n",
      "nobles like Othon; clerks like Hotham; extremists like Zachrisson;\n",
      "friends like Elinor; questions like those; Papers like these; press\n",
      "like claims; cities like Baltimore; sounds like Hardy; writers like\n",
      "Pierre; pricks like Coughlin; things like terror; towns like\n",
      "Gloucester; bushes like sheep; walls like something; drawings like\n",
      "something; haircuts like Little; times like those; restaurants like\n",
      "Enrico\n"
     ]
    }
   ],
   "source": [
    "hypernyms_pattern.findall(r\"<\\w{4,}s><like><\\w{5,}>\")"
   ]
  },
  {
   "cell_type": "code",
   "execution_count": null,
   "metadata": {},
   "outputs": [],
   "source": []
  }
 ],
 "metadata": {
  "kernelspec": {
   "display_name": "Python 3",
   "language": "python",
   "name": "python3"
  },
  "language_info": {
   "codemirror_mode": {
    "name": "ipython",
    "version": 3
   },
   "file_extension": ".py",
   "mimetype": "text/x-python",
   "name": "python",
   "nbconvert_exporter": "python",
   "pygments_lexer": "ipython3",
   "version": "3.8.3"
  }
 },
 "nbformat": 4,
 "nbformat_minor": 4
}
