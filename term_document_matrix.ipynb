{
 "cells": [
  {
   "cell_type": "code",
   "execution_count": 1,
   "metadata": {},
   "outputs": [],
   "source": [
    "import nltk"
   ]
  },
  {
   "cell_type": "code",
   "execution_count": 26,
   "metadata": {},
   "outputs": [],
   "source": [
    "doc1 = \"Ahmed and Rima love each other. Ahmed has married Rima since two years.\"\n",
    "doc2 = \"Ahmed and Rima are studying master degree for two years.\""
   ]
  },
  {
   "cell_type": "code",
   "execution_count": 27,
   "metadata": {},
   "outputs": [
    {
     "name": "stdout",
     "output_type": "stream",
     "text": [
      "['Ahmed', 'and', 'Rima', 'love', 'each', 'other', '.', 'Ahmed', 'has', 'married', 'Rima', 'since', 'two', 'years', '.']\n"
     ]
    }
   ],
   "source": [
    "tokens1 = nltk.word_tokenize(doc1)\n",
    "print(tokens1)"
   ]
  },
  {
   "cell_type": "code",
   "execution_count": 28,
   "metadata": {},
   "outputs": [
    {
     "name": "stdout",
     "output_type": "stream",
     "text": [
      "['Ahmed', 'and', 'Rima', 'are', 'studying', 'master', 'degree', 'for', 'two', 'years', '.']\n"
     ]
    }
   ],
   "source": [
    "tokens2 = nltk.word_tokenize(doc2)\n",
    "print(tokens2)"
   ]
  },
  {
   "cell_type": "code",
   "execution_count": 29,
   "metadata": {},
   "outputs": [
    {
     "name": "stdout",
     "output_type": "stream",
     "text": [
      "[['Ahmed', 'and', 'Rima', 'love', 'each', 'other', '.', 'Ahmed', 'has', 'married', 'Rima', 'since', 'two', 'years', '.'], ['Ahmed', 'and', 'Rima', 'are', 'studying', 'master', 'degree', 'for', 'two', 'years', '.']]\n"
     ]
    }
   ],
   "source": [
    "list = []\n",
    "list.append(tokens1)\n",
    "list.append(tokens2)\n",
    "print(list)"
   ]
  },
  {
   "cell_type": "code",
   "execution_count": 30,
   "metadata": {},
   "outputs": [
    {
     "name": "stdout",
     "output_type": "stream",
     "text": [
      "['Ahmed', 'and', 'Rima', 'love', 'each', 'other', '.', 'has', 'married', 'since', 'two', 'years', 'are', 'studying', 'master', 'degree', 'for']\n"
     ]
    }
   ],
   "source": [
    "j = []\n",
    "for item in list:\n",
    "    for i in item:\n",
    "        if i not in j:\n",
    "            j.append(i)\n",
    "print(j)"
   ]
  },
  {
   "cell_type": "code",
   "execution_count": 113,
   "metadata": {},
   "outputs": [
    {
     "name": "stdout",
     "output_type": "stream",
     "text": [
      "        Ahmed  and  Rima  love  each  other  .  has  married  since  two  years  are  studying  master  degree  for  \n",
      "\n",
      "doc1     2     1     2     1     1     1     2     1     1     1     1     1     0     0     0     0     0 \n",
      "\n",
      "doc2     1     1     1     0     0     0     1     0     0     0     1     1     1     1     1     1     1 "
     ]
    }
   ],
   "source": [
    "from nltk import FreqDist\n",
    "num = 0\n",
    "print('       ', end=' ')\n",
    "for i in j:\n",
    "    print(i, end = '  ')\n",
    "for item in list:\n",
    "    num+=1\n",
    "    print('\\n')\n",
    "    print(f'doc{num}', end=' ')\n",
    "    print('', end='')\n",
    "    freqdist = FreqDist(item)\n",
    "    for i in j:\n",
    "        print('  ', end='  ')\n",
    "        print(freqdist[i] , end= ' ')"
   ]
  },
  {
   "cell_type": "code",
   "execution_count": 117,
   "metadata": {},
   "outputs": [
    {
     "name": "stdout",
     "output_type": "stream",
     "text": [
      "0.5826771653543307\n"
     ]
    }
   ],
   "source": [
    "#Calculate similarity of two texts based on vocabulary.\n",
    "import difflib\n",
    "print(difflib.SequenceMatcher(None, doc1, doc2, False).ratio())"
   ]
  },
  {
   "cell_type": "code",
   "execution_count": null,
   "metadata": {},
   "outputs": [],
   "source": []
  }
 ],
 "metadata": {
  "kernelspec": {
   "display_name": "Python 3",
   "language": "python",
   "name": "python3"
  },
  "language_info": {
   "codemirror_mode": {
    "name": "ipython",
    "version": 3
   },
   "file_extension": ".py",
   "mimetype": "text/x-python",
   "name": "python",
   "nbconvert_exporter": "python",
   "pygments_lexer": "ipython3",
   "version": "3.8.3"
  }
 },
 "nbformat": 4,
 "nbformat_minor": 4
}
